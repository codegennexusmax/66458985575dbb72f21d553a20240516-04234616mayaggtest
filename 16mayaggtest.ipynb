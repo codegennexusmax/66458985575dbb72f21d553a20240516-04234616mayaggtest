{
 "cells": [
  {
   "cell_type": "markdown",
   "id": "42013f98",
   "metadata": {},
   "source": [
    "***GENERATED CODE FOR 16mayaggtest PIPELINE.***"
   ]
  },
  {
   "cell_type": "markdown",
   "id": "5b727158",
   "metadata": {},
   "source": [
    "***DON'T EDIT THIS CODE.***"
   ]
  },
  {
   "cell_type": "markdown",
   "id": "aa572ac2",
   "metadata": {},
   "source": [
    "***CONNECTOR FUNCTIONS TO READ DATA.***"
   ]
  },
  {
   "cell_type": "code",
   "execution_count": null,
   "id": "958a2612",
   "metadata": {},
   "outputs": [],
   "source": [
    "import os\n",
    "import datetime\n",
    "import logging\n",
    "import warnings\n",
    "warnings.filterwarnings('ignore')\n",
    "logging.basicConfig(format='%(levelname)s:%(message)s', level=logging.INFO)\n",
    "\n",
    "\n",
    "class HDFSConnector:\n",
    "\n",
    "    def fetch(spark, config):\n",
    "        ################### INPUT HADOOP HOST PORT TO CONNECT WITH ###############################\n",
    "        hdfs_server = str(os.environ['HDFS_SERVER'])\n",
    "        hdfs_port = int(os.environ['HDFS_PORT'])\n",
    "        df = spark.read.options(header='true', inferschema='true').csv(\n",
    "            f\"hdfs://{hdfs_server}:{hdfs_port}{eval(config)['url']}\", header='true')\n",
    "        display(df.limit(2).toPandas())\n",
    "        return df\n",
    "\n",
    "    def put(df, spark, config):\n",
    "        return df.write.format('csv').options(header='true' if eval(config)[\"is_header\"] == \"Use Header Line\" else 'false',\n",
    "                                              delimiter=eval(config)[\"delimiter\"]).save((\"%s %s\") % (datetime.datetime.now().strftime(\"%Y-%m-%d %H.%M.%S\")+\"_\", eval(config)['url']))\n"
   ]
  },
  {
   "cell_type": "markdown",
   "id": "232c5126",
   "metadata": {},
   "source": [
    "***OPERATION FUNCTIONS***"
   ]
  },
  {
   "cell_type": "code",
   "execution_count": null,
   "id": "4033faa9",
   "metadata": {},
   "outputs": [],
   "source": [
    "class AggregationOperation:\n",
    "\n",
    "    def run(inStages, inStagesData, stageId, sparkSession, stageAttribs):\n",
    "\n",
    "        aggregations = \"\"\n",
    "\n",
    "        for aggregate in stageAttribs[\"aggregate_on\"]:\n",
    "            if aggregate['method_type'] == \"count\":\n",
    "                if aggregate['method'] == \"all\":\n",
    "                    aggregations += \"%s(%s) as %s, \" % (\n",
    "                        aggregate['method'], aggregate['input_field'], aggregate['aggregate_field'])\n",
    "                elif aggregate['method'] == \"empty\":\n",
    "                    aggregations += \"%s(case %s when null then 1 else null end) as %s, \" % (\n",
    "                        aggregate['method'], aggregate['input_field'], aggregate['aggregate_field'])\n",
    "                elif aggregate['method'] == \"non empty\":\n",
    "                    aggregations += \"%s(case %s when null then null else 1 end) as %s, \" % (\n",
    "                        aggregate['method'], aggregate['input_field'], aggregate['aggregate_field'])\n",
    "                elif aggregate['method'] == \"custom\":\n",
    "                    aggregations += \"%s(case %s when %s then 1 else null end) as %s, \" % (\n",
    "                        aggregate['method'], aggregate['input_field'], aggregate['count_custom_value'], aggregate['aggregate_field'])\n",
    "                elif aggregate['method'] == \"unique\":\n",
    "                    aggregations += \"%s(DISTINCT(%s)) as %s, \" % (\n",
    "                        aggregate['method'], aggregate['input_field'], aggregate['aggregate_field'])\n",
    "\n",
    "            else:\n",
    "                aggregations += \"%s(%s) as %s, \" % (\n",
    "                    aggregate['method'], aggregate['input_field'], aggregate['aggregate_field'])\n",
    "\n",
    "        group_by = \",\".join(stageAttribs[\"group_by\"])\n",
    "\n",
    "        inStagesData[inStages[0]].createOrReplaceTempView(\"view%s\" % (stageId))\n",
    "        query = \"SELECT %s %s FROM %s GROUP BY %s\" % (\n",
    "            aggregations, group_by, \"view%s\" % (stageId), group_by)\n",
    "        return sparkSession.sql(query)\n"
   ]
  },
  {
   "cell_type": "markdown",
   "id": "9286cae3",
   "metadata": {},
   "source": [
    "***CONNECTOR FUNCTIONS TO WRITE DATA.***"
   ]
  },
  {
   "cell_type": "code",
   "execution_count": null,
   "id": "694ac60e",
   "metadata": {},
   "outputs": [],
   "source": [
    "import datetime\n",
    "import requests\n",
    "import datetime\n",
    "import logging\n",
    "import warnings\n",
    "warnings.filterwarnings('ignore')\n",
    "logging.basicConfig(format='%(levelname)s:%(message)s', level=logging.INFO)\n",
    "\n",
    "\n",
    "class NumtraConnector:\n",
    "\n",
    "    def put(inStages, inStagesData, stageId, spark, config):\n",
    "        path = eval(config)['server_url']\n",
    "        baseType = eval(config)['baseType']\n",
    "        results_url = eval(config)['results_url']\n",
    "        server = eval(config)['server']\n",
    "        originalfile = eval(config)['orignalKey']\n",
    "        eval(config)['pathOnly']\n",
    "        filename = eval(config)['filename']\n",
    "        eval(config)['ser']\n",
    "        eval(config)['user']\n",
    "        eval(config)['password']\n",
    "        eval(config)['authSource']\n",
    "        eval(config)['user_id']\n",
    "        eval(config)['parent_id']\n",
    "        eval(config)['project_id']\n",
    "        time = str(int(datetime.datetime.now().timestamp()))\n",
    "\n",
    "        inStagesData[inStages[0]]\n",
    "\n",
    "        print(path)\n",
    "        print(baseType)\n",
    "        print(results_url)\n",
    "        print(server)\n",
    "        print(originalfile)\n",
    "        print(filename)\n",
    "\n",
    "        args = {\n",
    "            'url': path,\n",
    "            'baseType': baseType,\n",
    "            'originalfile': originalfile,\n",
    "            'filename': time + filename\n",
    "        }\n",
    "\n",
    "        response = requests.post(results_url, args)\n",
    "        return response\n"
   ]
  },
  {
   "cell_type": "markdown",
   "id": "c94ad55e",
   "metadata": {},
   "source": [
    "***READING DATAFRAME***"
   ]
  },
  {
   "cell_type": "code",
   "execution_count": null,
   "id": "0c03bf68",
   "metadata": {},
   "outputs": [],
   "source": [
    "############## CREATE SPARK SESSION ############################ ENTER YOUR SPARK MASTER IP AND PORT TO CONNECT TO SERVER ################\n",
    "from pyspark.sql import SparkSession\n",
    "spark = SparkSession.builder.master('local[1]').getOrCreate()\n",
    "#%run 16mayaggtestHooks.ipynb\n",
    "try:\n",
    "\t#sourcePreExecutionHook()\n",
    "\n",
    "\theartfailurehitorymein = HDFSConnector.fetch(spark, \"{'url': '/FileStore/platform/testdata/1713171665865_HeartFailureHistory.csv', 'filename': 'HeartFailureHistory.csv', 'delimiter': ',', 'file_type': 'Delimeted', 'dbfs_token': '', 'dbfs_domain': '', 'FilePath': '/SourceTest/HeartFailureHistory.csv', 'viewFileName': 'HeartFailureHistory.csv', 'is_header': 'Use Header Line', 'baseType': 'hdfs', 'server_url': '/nexusMax/NexusMaxPlatform/uploads/platform/', 'results_url': 'http://dnm.bfirst.ai:44040/api/read/hdfs'}\")\n",
    "\n",
    "except Exception as ex: \n",
    "\tlogging.error(ex)\n",
    "#spark.stop()\n"
   ]
  },
  {
   "cell_type": "markdown",
   "id": "fa1b464c",
   "metadata": {},
   "source": [
    "***PERFORMING OPERATIONS***"
   ]
  },
  {
   "cell_type": "code",
   "execution_count": null,
   "id": "a41ef0ed",
   "metadata": {},
   "outputs": [],
   "source": [
    "#%run 16mayaggtestHooks.ipynb\n",
    "try:\n",
    "\taggregation = AggregationOperation.run([\"66458992575dbb72f21d554c\"],{\"66458992575dbb72f21d554c\": heartfailurehitorymein}, \"66458999575dbb72f21d5550\", spark, \"{'dataType': 'real', 'dataTypes': ['real', 'numeric'], 'SelectedColumns': ['age'], 'functionData': {'functionName': 'aggregate', 'applyOn': [{'columnName': 'age', 'type': 'real', 'disable': False}], 'functionsData': [{'aggregateFunction': 'max', 'aggregateOn': [{'columnName': 'age', 'type': 'real', 'disable': False}], 'groupOn': [{'columnName': 'anaemia', 'type': 'numeric', 'disable': True}]}]}, 'allColumns': [{'columnName': 'age', 'type': 'real', 'disable': False}, {'columnName': 'anaemia', 'type': 'numeric', 'disable': True}, {'columnName': 'creatinine_phosphokinase', 'type': 'numeric', 'disable': True}, {'columnName': 'diabetes', 'type': 'numeric', 'disable': True}, {'columnName': 'ejection_fraction', 'type': 'numeric', 'disable': True}, {'columnName': 'high_blood_pressure', 'type': 'numeric', 'disable': True}, {'columnName': 'platelets', 'type': 'real', 'disable': False}, {'columnName': 'serum_creatinine', 'type': 'real', 'disable': False}, {'columnName': 'serum_sodium', 'type': 'numeric', 'disable': True}, {'columnName': 'sex', 'type': 'numeric', 'disable': True}, {'columnName': 'smoking', 'type': 'numeric', 'disable': True}, {'columnName': 'time', 'type': 'numeric', 'disable': True}, {'columnName': 'DEATH_EVENT', 'type': 'numeric', 'disable': True}], 'url': '/FileStore/platform/testdata/1713171665865_HeartFailureHistory.csv', 'SelectedColumnsData': [{'columnName': 'age', 'type': 'real', 'disable': False}], 'groupOn': ['anaemia'], 'server_url': '/nexusMax/NexusMaxPlatform/uploads/platform/'}\")\n",
    "\n",
    "except Exception as ex: \n",
    "\tlogging.error(ex)\n"
   ]
  },
  {
   "cell_type": "markdown",
   "id": "fcc6b82f",
   "metadata": {},
   "source": [
    "***WRITING DATAFRAME***"
   ]
  },
  {
   "cell_type": "code",
   "execution_count": null,
   "id": "916a13c9",
   "metadata": {},
   "outputs": [],
   "source": [
    "#%run 16mayaggtestHooks.ipynb\n",
    "try:\n",
    "\t#sinkPreExecutionHook()\n",
    "\n",
    "\toperatorstestoutput = NumtraConnector.fetch(spark, \"{'samplefile': '/FileStore/platform/sampleData/66458992575dbb72f21d554c/part-00000-abb1698e-071b-43da-8bfb-8e729d77f613-c000.csv', 'samplecount': 299, 'originalcount': 299, 'orignalKey': '/FileStore/platform/testdata/1713171665865_HeartFailureHistory.csv', 'pathOnly': '/OperatorsTest', 'project_id': '66279e60b6d893f4c9a9ec43', 'parent_id': '66279e60b6d893f4c9a9ec43', 'original_schema': [{'checked': True, 'inherited': True, 'is_categorical': False, 'bad_values': '', 'nullable': 'true', '_id': '66458a10575dbb72f21d55f6', 'field': 'age', 'alias': 'age', 'type': 'real', 'position': '0'}, {'checked': True, 'inherited': True, 'is_categorical': False, 'bad_values': '', 'nullable': 'true', '_id': '66458a10575dbb72f21d55f7', 'field': 'anaemia', 'alias': 'anaemia', 'type': 'numeric', 'position': '1'}, {'checked': True, 'inherited': True, 'is_categorical': False, 'bad_values': '', 'nullable': 'true', '_id': '66458a10575dbb72f21d55f8', 'field': 'creatinine_phosphokinase', 'alias': 'creatinine_phosphokinase', 'type': 'numeric', 'position': '2'}, {'checked': True, 'inherited': True, 'is_categorical': False, 'bad_values': '', 'nullable': 'true', '_id': '66458a10575dbb72f21d55f9', 'field': 'diabetes', 'alias': 'diabetes', 'type': 'numeric', 'position': '3'}, {'checked': True, 'inherited': True, 'is_categorical': False, 'bad_values': '', 'nullable': 'true', '_id': '66458a10575dbb72f21d55fa', 'field': 'ejection_fraction', 'alias': 'ejection_fraction', 'type': 'numeric', 'position': '4'}, {'checked': True, 'inherited': True, 'is_categorical': False, 'bad_values': '', 'nullable': 'true', '_id': '66458a10575dbb72f21d55fb', 'field': 'high_blood_pressure', 'alias': 'high_blood_pressure', 'type': 'numeric', 'position': '5'}, {'checked': True, 'inherited': True, 'is_categorical': False, 'bad_values': '', 'nullable': 'true', '_id': '66458a10575dbb72f21d55fc', 'field': 'platelets', 'alias': 'platelets', 'type': 'real', 'position': '6'}, {'checked': True, 'inherited': True, 'is_categorical': False, 'bad_values': '', 'nullable': 'true', '_id': '66458a10575dbb72f21d55fd', 'field': 'serum_creatinine', 'alias': 'serum_creatinine', 'type': 'real', 'position': '7'}, {'checked': True, 'inherited': True, 'is_categorical': False, 'bad_values': '', 'nullable': 'true', '_id': '66458a10575dbb72f21d55fe', 'field': 'serum_sodium', 'alias': 'serum_sodium', 'type': 'numeric', 'position': '8'}, {'checked': True, 'inherited': True, 'is_categorical': False, 'bad_values': '', 'nullable': 'true', '_id': '66458a10575dbb72f21d55ff', 'field': 'sex', 'alias': 'sex', 'type': 'numeric', 'position': '9'}, {'checked': True, 'inherited': True, 'is_categorical': False, 'bad_values': '', 'nullable': 'true', '_id': '66458a10575dbb72f21d5600', 'field': 'smoking', 'alias': 'smoking', 'type': 'numeric', 'position': '10'}, {'checked': True, 'inherited': True, 'is_categorical': False, 'bad_values': '', 'nullable': 'true', '_id': '66458a10575dbb72f21d5601', 'field': 'time', 'alias': 'time', 'type': 'numeric', 'position': '11'}, {'checked': True, 'inherited': True, 'is_categorical': False, 'bad_values': '', 'nullable': 'true', '_id': '66458a10575dbb72f21d5602', 'field': 'DEATH_EVENT', 'alias': 'DEATH_EVENT', 'type': 'numeric', 'position': '12'}], 'actual_schema': [{'checked': True, 'inherited': True, 'is_categorical': False, 'bad_values': '', 'nullable': 'true', '_id': '66458a10575dbb72f21d55e9', 'field': 'age', 'alias': 'age', 'type': 'real', 'position': '0'}, {'checked': True, 'inherited': True, 'is_categorical': False, 'bad_values': '', 'nullable': 'true', '_id': '66458a10575dbb72f21d55ea', 'field': 'anaemia', 'alias': 'anaemia', 'type': 'numeric', 'position': '1'}, {'checked': True, 'inherited': True, 'is_categorical': False, 'bad_values': '', 'nullable': 'true', '_id': '66458a10575dbb72f21d55eb', 'field': 'creatinine_phosphokinase', 'alias': 'creatinine_phosphokinase', 'type': 'numeric', 'position': '2'}, {'checked': True, 'inherited': True, 'is_categorical': False, 'bad_values': '', 'nullable': 'true', '_id': '66458a10575dbb72f21d55ec', 'field': 'diabetes', 'alias': 'diabetes', 'type': 'numeric', 'position': '3'}, {'checked': True, 'inherited': True, 'is_categorical': False, 'bad_values': '', 'nullable': 'true', '_id': '66458a10575dbb72f21d55ed', 'field': 'ejection_fraction', 'alias': 'ejection_fraction', 'type': 'numeric', 'position': '4'}, {'checked': True, 'inherited': True, 'is_categorical': False, 'bad_values': '', 'nullable': 'true', '_id': '66458a10575dbb72f21d55ee', 'field': 'high_blood_pressure', 'alias': 'high_blood_pressure', 'type': 'numeric', 'position': '5'}, {'checked': True, 'inherited': True, 'is_categorical': False, 'bad_values': '', 'nullable': 'true', '_id': '66458a10575dbb72f21d55ef', 'field': 'platelets', 'alias': 'platelets', 'type': 'real', 'position': '6'}, {'checked': True, 'inherited': True, 'is_categorical': False, 'bad_values': '', 'nullable': 'true', '_id': '66458a10575dbb72f21d55f0', 'field': 'serum_creatinine', 'alias': 'serum_creatinine', 'type': 'real', 'position': '7'}, {'checked': True, 'inherited': True, 'is_categorical': False, 'bad_values': '', 'nullable': 'true', '_id': '66458a10575dbb72f21d55f1', 'field': 'serum_sodium', 'alias': 'serum_sodium', 'type': 'numeric', 'position': '8'}, {'checked': True, 'inherited': True, 'is_categorical': False, 'bad_values': '', 'nullable': 'true', '_id': '66458a10575dbb72f21d55f2', 'field': 'sex', 'alias': 'sex', 'type': 'numeric', 'position': '9'}, {'checked': True, 'inherited': True, 'is_categorical': False, 'bad_values': '', 'nullable': 'true', '_id': '66458a10575dbb72f21d55f3', 'field': 'smoking', 'alias': 'smoking', 'type': 'numeric', 'position': '10'}, {'checked': True, 'inherited': True, 'is_categorical': False, 'bad_values': '', 'nullable': 'true', '_id': '66458a10575dbb72f21d55f4', 'field': 'time', 'alias': 'time', 'type': 'numeric', 'position': '11'}, {'checked': True, 'inherited': True, 'is_categorical': False, 'bad_values': '', 'nullable': 'true', '_id': '66458a10575dbb72f21d55f5', 'field': 'DEATH_EVENT', 'alias': 'DEATH_EVENT', 'type': 'numeric', 'position': '12'}], 'server': 'https://dnm.bfirst.ai:443', 'server_url': '/nexusMax/NexusMaxPlatform/uploads/platform/', 'delimiter': ',', 'file_type': 'Delimeted', 'filename': '16maytest.csv', 'token': '', 'domain': '', 'is_header': 'Use Header Line', 'url': '/FileStore/platform/uploadedSourceFiles/part-00000-511f11f9-de38-4d8c-9ba2-b8c4d2f7d6b7-c000.csv', 'results_url': 'http://dnm.bfirst.ai:44040/api/read/hdfs'}\")\n",
    "\n",
    "except Exception as ex: \n",
    "\tlogging.error(ex)\n"
   ]
  }
 ],
 "metadata": {},
 "nbformat": 4,
 "nbformat_minor": 5
}
